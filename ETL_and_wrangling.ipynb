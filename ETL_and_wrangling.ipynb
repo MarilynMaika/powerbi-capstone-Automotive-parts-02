{
 "cells": [
  {
   "cell_type": "code",
   "execution_count": 2,
   "id": "8ffb023c",
   "metadata": {},
   "outputs": [],
   "source": [
    "import pandas as pd\n",
    "import numpy as np\n",
    "import matplotlib.pyplot as plt"
   ]
  },
  {
   "cell_type": "code",
   "execution_count": 3,
   "id": "fbe65f92",
   "metadata": {},
   "outputs": [
    {
     "name": "stderr",
     "output_type": "stream",
     "text": [
      "<>:1: SyntaxWarning: invalid escape sequence '\\R'\n",
      "<>:2: SyntaxWarning: invalid escape sequence '\\R'\n",
      "<>:3: SyntaxWarning: invalid escape sequence '\\R'\n",
      "<>:4: SyntaxWarning: invalid escape sequence '\\R'\n",
      "<>:5: SyntaxWarning: invalid escape sequence '\\R'\n",
      "<>:1: SyntaxWarning: invalid escape sequence '\\R'\n",
      "<>:2: SyntaxWarning: invalid escape sequence '\\R'\n",
      "<>:3: SyntaxWarning: invalid escape sequence '\\R'\n",
      "<>:4: SyntaxWarning: invalid escape sequence '\\R'\n",
      "<>:5: SyntaxWarning: invalid escape sequence '\\R'\n",
      "C:\\Users\\jkaru\\AppData\\Local\\Temp\\ipykernel_11500\\4180793283.py:1: SyntaxWarning: invalid escape sequence '\\R'\n",
      "  raw_equipment = pd.read_csv('Data\\Raw\\Dim_Equipment.csv')\n",
      "C:\\Users\\jkaru\\AppData\\Local\\Temp\\ipykernel_11500\\4180793283.py:2: SyntaxWarning: invalid escape sequence '\\R'\n",
      "  raw_locations = pd.read_csv('Data\\Raw\\Dim_Location.csv')\n",
      "C:\\Users\\jkaru\\AppData\\Local\\Temp\\ipykernel_11500\\4180793283.py:3: SyntaxWarning: invalid escape sequence '\\R'\n",
      "  raw_sensors = pd.read_csv('Data\\Raw\\Dim_Sensor.csv')\n",
      "C:\\Users\\jkaru\\AppData\\Local\\Temp\\ipykernel_11500\\4180793283.py:4: SyntaxWarning: invalid escape sequence '\\R'\n",
      "  raw_time = pd.read_csv('Data\\Raw\\Dim_Time.csv')\n",
      "C:\\Users\\jkaru\\AppData\\Local\\Temp\\ipykernel_11500\\4180793283.py:5: SyntaxWarning: invalid escape sequence '\\R'\n",
      "  raw_facttable= pd.read_csv('Data\\Raw\\Fact_EquipmentSensorData.csv')\n"
     ]
    }
   ],
   "source": [
    "raw_equipment = pd.read_csv('Data\\Raw\\Dim_Equipment.csv')\n",
    "raw_locations = pd.read_csv('Data\\Raw\\Dim_Location.csv')\n",
    "raw_sensors = pd.read_csv('Data\\Raw\\Dim_Sensor.csv')\n",
    "raw_time = pd.read_csv('Data\\Raw\\Dim_Time.csv')\n",
    "raw_facttable= pd.read_csv('Data\\Raw\\Fact_EquipmentSensorData.csv')"
   ]
  },
  {
   "cell_type": "code",
   "execution_count": 4,
   "id": "4b30f060",
   "metadata": {},
   "outputs": [
    {
     "name": "stdout",
     "output_type": "stream",
     "text": [
      "  SensorID   SensorType Unit CalibrationDate\n",
      "0  SNS_001      Voltage    V      2023-01-31\n",
      "1  SNS_002     Pressure    V      2023-02-28\n",
      "2  SNS_003    Vibration   °C      2023-03-31\n",
      "3  SNS_004  Temperature   °C      2023-04-30\n",
      "4  SNS_005    Vibration    V      2023-05-31\n",
      "  LocationID    Plant ProductionLine\n",
      "0     LOC_01  Plant A         Line 1\n",
      "1     LOC_02  Plant A         Line 2\n",
      "2     LOC_03  Plant A         Line 3\n",
      "3     LOC_04  Plant A         Line 4\n",
      "4     LOC_05  Plant B         Line 5\n",
      "  EquipmentID EquipmentType Manufacturer InstallationDate  IsCritical\n",
      "0     EQP_001         Press          ABB       2020-01-01        True\n",
      "1     EQP_002    3D Printer      Siemens       2020-06-29       False\n",
      "2     EQP_003        Welder          ABB       2020-12-26        True\n",
      "3     EQP_004    3D Printer          ABB       2021-06-24       False\n",
      "4     EQP_005    3D Printer          ABB       2021-12-21       False\n",
      "   TimeID                   Timestamp  Hour  Day  Month  Year Weekday\n",
      "0       0  2025-07-14 13:02:55.252964    13   14      7  2025  Monday\n",
      "1       1  2025-07-14 12:32:55.252964    12   14      7  2025  Monday\n",
      "2       2  2025-07-14 12:02:55.252964    12   14      7  2025  Monday\n",
      "3       3  2025-07-14 11:32:55.252964    11   14      7  2025  Monday\n",
      "4       4  2025-07-14 11:02:55.252964    11   14      7  2025  Monday\n",
      "   SensorDataID Timestamp EquipmentID SensorID LocationID  Temperature  \\\n",
      "0             1   23:55.3     EQP_005  SNS_004     LOC_01    85.819421   \n",
      "1             2   47:55.3     EQP_005  SNS_003     LOC_06          NaN   \n",
      "2             3   53:55.3     EQP_005  SNS_004     LOC_01    83.160728   \n",
      "3             4   05:55.3     EQP_003  SNS_005     LOC_06          NaN   \n",
      "4             5   36:55.3     EQP_003  SNS_006     LOC_03          NaN   \n",
      "\n",
      "   Vibration  Pressure     Voltage HealthScore  PredictedFailure  \\\n",
      "0        NaN       NaN         NaN          75                 0   \n",
      "1   4.729366       NaN         NaN          42                 0   \n",
      "2        NaN       NaN         NaN          38                 0   \n",
      "3   5.602341       NaN         NaN          72                 0   \n",
      "4        NaN       NaN  200.757448           5                 0   \n",
      "\n",
      "   EstimatedDowntimeMins  EstimatedMaintenanceCost  \n",
      "0                     79                       747  \n",
      "1                     78                       239  \n",
      "2                     23                       652  \n",
      "3                    118                       381  \n",
      "4                     51                       661  \n"
     ]
    }
   ],
   "source": [
    "print(raw_sensors.head())\n",
    "print(raw_locations.head())\n",
    "print(raw_equipment.head())\n",
    "print(raw_time.head())\n",
    "print(raw_facttable.head())"
   ]
  },
  {
   "cell_type": "markdown",
   "id": "f80a2921",
   "metadata": {},
   "source": [
    "### Cleaning the Equipment Dataset"
   ]
  },
  {
   "cell_type": "code",
   "execution_count": 5,
   "id": "e7a6824e",
   "metadata": {},
   "outputs": [],
   "source": [
    "raw_facttable = raw_facttable.drop_duplicates(subset='Timestamp')"
   ]
  },
  {
   "cell_type": "code",
   "execution_count": 6,
   "id": "a6643f8a",
   "metadata": {},
   "outputs": [
    {
     "name": "stdout",
     "output_type": "stream",
     "text": [
      "SensorDataID                 0\n",
      "Timestamp                    0\n",
      "EquipmentID                  0\n",
      "SensorID                     0\n",
      "LocationID                   0\n",
      "Temperature                 51\n",
      "Vibration                   33\n",
      "Pressure                    52\n",
      "Voltage                     44\n",
      "HealthScore                  2\n",
      "PredictedFailure             0\n",
      "EstimatedDowntimeMins        0\n",
      "EstimatedMaintenanceCost     0\n",
      "dtype: int64\n"
     ]
    }
   ],
   "source": [
    "print(raw_facttable.isnull().sum())"
   ]
  },
  {
   "cell_type": "code",
   "execution_count": 7,
   "id": "fc720d30",
   "metadata": {},
   "outputs": [],
   "source": [
    "raw_facttable = raw_facttable.drop(columns=['HealthScore'])"
   ]
  },
  {
   "cell_type": "code",
   "execution_count": null,
   "id": "943b3780",
   "metadata": {},
   "outputs": [],
   "source": []
  }
 ],
 "metadata": {
  "kernelspec": {
   "display_name": "Python 3",
   "language": "python",
   "name": "python3"
  },
  "language_info": {
   "codemirror_mode": {
    "name": "ipython",
    "version": 3
   },
   "file_extension": ".py",
   "mimetype": "text/x-python",
   "name": "python",
   "nbconvert_exporter": "python",
   "pygments_lexer": "ipython3",
   "version": "3.13.5"
  }
 },
 "nbformat": 4,
 "nbformat_minor": 5
}
